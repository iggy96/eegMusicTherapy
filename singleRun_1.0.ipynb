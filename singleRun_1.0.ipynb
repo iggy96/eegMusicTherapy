{
 "cells": [
  {
   "cell_type": "code",
   "execution_count": 1,
   "metadata": {},
   "outputs": [],
   "source": [
    "# The jupyter script is used to carry out the analysis of the single run\n",
    "# this is an ETL process: extract (from database), transform (preprocessing techniques), load (numPy arrays)\n",
    "# from the music therapy study using a 12 seconds sliding window\n",
    "# dataset is resampled due to undersampling during the recording\n",
    "# ICA, notch and bandpass filtering are implmeneted to mitigate eeg noise\n",
    "# results: spectogram and average bandpower comparison betwen timepoints per channel per brainwave"
   ]
  },
  {
   "cell_type": "code",
   "execution_count": 2,
   "metadata": {},
   "outputs": [],
   "source": [
    "from helper import*\n",
    "import params as cfg"
   ]
  },
  {
   "cell_type": "code",
   "execution_count": 3,
   "metadata": {},
   "outputs": [],
   "source": [
    "# group-task-time\n",
    "M = [['m11_1.zip'],['m12_1.zip']]\n",
    "localDir = \"/Users/joshuaighalo/Downloads/Mind_Monitor/\"\n",
    "destDir = \"/Users/joshuaighalo/Downloads/Mind_Monitor/dest/\"\n",
    "os.system('rm -rf %s/*' % destDir)\n",
    "fs_setting = 'constant'"
   ]
  },
  {
   "cell_type": "code",
   "execution_count": 4,
   "metadata": {},
   "outputs": [
    {
     "ename": "TypeError",
     "evalue": "plots() missing 3 required positional arguments: 'subTitles', 'title', and 'tickRange'",
     "output_type": "error",
     "traceback": [
      "\u001b[0;31m---------------------------------------------------------------------------\u001b[0m",
      "\u001b[0;31mTypeError\u001b[0m                                 Traceback (most recent call last)",
      "\u001b[0;32m/var/folders/ry/jhpq361x33g2tv7b7l6j0md80000gn/T/ipykernel_9043/198614571.py\u001b[0m in \u001b[0;36m<cell line: 9>\u001b[0;34m()\u001b[0m\n\u001b[1;32m      7\u001b[0m \u001b[0mtime_s\u001b[0m \u001b[0;34m=\u001b[0m \u001b[0mtime_s\u001b[0m\u001b[0;34m[\u001b[0m\u001b[0;36m0\u001b[0m\u001b[0;34m:\u001b[0m\u001b[0mint\u001b[0m\u001b[0;34m(\u001b[0m\u001b[0mcfg\u001b[0m\u001b[0;34m.\u001b[0m\u001b[0mcollection_time\u001b[0m\u001b[0;34m*\u001b[0m\u001b[0mcfg\u001b[0m\u001b[0;34m.\u001b[0m\u001b[0mfs\u001b[0m\u001b[0;34m)\u001b[0m\u001b[0;34m]\u001b[0m\u001b[0;34m\u001b[0m\u001b[0;34m\u001b[0m\u001b[0m\n\u001b[1;32m      8\u001b[0m \u001b[0;34m\u001b[0m\u001b[0m\n\u001b[0;32m----> 9\u001b[0;31m \u001b[0mplots\u001b[0m\u001b[0;34m(\u001b[0m\u001b[0mtime_s\u001b[0m\u001b[0;34m,\u001b[0m\u001b[0mMT11\u001b[0m\u001b[0;34m,\u001b[0m\u001b[0mcfg\u001b[0m\u001b[0;34m.\u001b[0m\u001b[0mchannels\u001b[0m\u001b[0;34m,\u001b[0m\u001b[0;34m[\u001b[0m\u001b[0;34m'blue'\u001b[0m\u001b[0;34m,\u001b[0m\u001b[0;34m'orange'\u001b[0m\u001b[0;34m,\u001b[0m\u001b[0;34m'green'\u001b[0m\u001b[0;34m,\u001b[0m\u001b[0;34m'red'\u001b[0m\u001b[0;34m]\u001b[0m\u001b[0;34m)\u001b[0m\u001b[0;34m\u001b[0m\u001b[0;34m\u001b[0m\u001b[0m\n\u001b[0m\u001b[1;32m     10\u001b[0m \u001b[0mpsdPlots\u001b[0m\u001b[0;34m(\u001b[0m\u001b[0mMT11\u001b[0m\u001b[0;34m,\u001b[0m\u001b[0mcfg\u001b[0m\u001b[0;34m.\u001b[0m\u001b[0mfs\u001b[0m\u001b[0;34m,\u001b[0m\u001b[0mcfg\u001b[0m\u001b[0;34m.\u001b[0m\u001b[0mchannels\u001b[0m\u001b[0;34m)\u001b[0m\u001b[0;34m\u001b[0m\u001b[0;34m\u001b[0m\u001b[0m\n\u001b[1;32m     11\u001b[0m \u001b[0mplots\u001b[0m\u001b[0;34m(\u001b[0m\u001b[0mtime_s\u001b[0m\u001b[0;34m,\u001b[0m\u001b[0mMT12\u001b[0m\u001b[0;34m,\u001b[0m\u001b[0mcfg\u001b[0m\u001b[0;34m.\u001b[0m\u001b[0mchannels\u001b[0m\u001b[0;34m,\u001b[0m\u001b[0;34m[\u001b[0m\u001b[0;34m'blue'\u001b[0m\u001b[0;34m,\u001b[0m\u001b[0;34m'orange'\u001b[0m\u001b[0;34m,\u001b[0m\u001b[0;34m'green'\u001b[0m\u001b[0;34m,\u001b[0m\u001b[0;34m'red'\u001b[0m\u001b[0;34m]\u001b[0m\u001b[0;34m)\u001b[0m\u001b[0;34m\u001b[0m\u001b[0;34m\u001b[0m\u001b[0m\n",
      "\u001b[0;31mTypeError\u001b[0m: plots() missing 3 required positional arguments: 'subTitles', 'title', and 'tickRange'"
     ]
    }
   ],
   "source": [
    "MT11 = zipExtract(M[0],localDir,destDir,\"M11\",cfg.fs,cfg.collection_time,cfg.fs_setting)[1]\n",
    "MT11 = MT11.reshape(MT11.shape[1],MT11.shape[2])\n",
    "MT12 = zipExtract(M[1],localDir,destDir,\"M12\",cfg.fs,cfg.collection_time,cfg.fs_setting)[1]\n",
    "MT12 = MT12.reshape(MT12.shape[1],MT12.shape[2])\n",
    "time_s = zipExtract(M[0],localDir,destDir,\"M11\",cfg.fs,cfg.collection_time,cfg.fs_setting)[2][0]\n",
    "time_s = time_s.reshape(len(time_s),1)\n",
    "time_s = time_s[0:int(cfg.collection_time*cfg.fs)]\n",
    "\n",
    "plots(time_s,MT11,cfg.channels,['blue','orange','green','red'])\n",
    "psdPlots(MT11,cfg.fs,cfg.channels)\n",
    "plots(time_s,MT12,cfg.channels,['blue','orange','green','red'])\n",
    "psdPlots(MT12,cfg.fs,cfg.channels)"
   ]
  },
  {
   "cell_type": "code",
   "execution_count": null,
   "metadata": {},
   "outputs": [],
   "source": [
    "ica_MT11 = ica(MT11,cfg.fs)\n",
    "ica_MT12 = ica(MT12,cfg.fs)\n",
    "psdPlots(ica_MT11,cfg.fs,cfg.channels)\n",
    "psdPlots(ica_MT12,cfg.fs,cfg.channels)"
   ]
  },
  {
   "cell_type": "code",
   "execution_count": null,
   "metadata": {},
   "outputs": [],
   "source": [
    "filtering = filters()\n",
    "noc_MT11 = filtering.notch(ica_MT11,cfg.fs)\n",
    "noc_MT12 = filtering.notch(ica_MT12,cfg.fs)\n",
    "psdPlots(noc_MT11,cfg.fs,cfg.channels)\n",
    "psdPlots(noc_MT12,cfg.fs,cfg.channels)\n"
   ]
  },
  {
   "cell_type": "code",
   "execution_count": null,
   "metadata": {},
   "outputs": [],
   "source": [
    "bandpass_MT11 = filtering.butterBandPass(noc_MT11,cfg.lowcut,cfg.highcut,cfg.fs,)\n",
    "bandpass_MT12 = filtering.butterBandPass(noc_MT12,cfg.lowcut,cfg.highcut,cfg.fs,)\n",
    "#psdPlots(bandpass_MT11,cfg.fs,cfg.channels)\n",
    "#psdPlots(bandpass_MT12,cfg.fs,cfg.channels)\n",
    "chans = cfg.channels\n",
    "spectrogramPlot(\"freqDomain\",bandpass_MT11,cfg.fs,time_s,[20,6],cfg.channels,'MT11')\n",
    "spectrogramPlot(\"freqDomain\",bandpass_MT12,cfg.fs,time_s,[20,6],cfg.channels,'MT12')"
   ]
  },
  {
   "cell_type": "code",
   "execution_count": null,
   "metadata": {},
   "outputs": [],
   "source": [
    "data,title,figsize,nfft,fs,nOverlap,subTitles = bandpass_MT11,'Music Therapy Group Task 1: T1 v T2',(10,6),1024,256,1024/2,['TP9-T1','AF7-T1','AF8-T1','TP10-T1']\n",
    "\n",
    "eeg = data\n",
    "sr = fs\n",
    "WinLength = int(0.5*sr) \n",
    "step = int(0.025*sr) \n",
    "myparams = dict(nperseg = WinLength, noverlap = WinLength-step, return_onesided=True, mode='magnitude')\n",
    "f_1, nseg_1, Sxx_1 = signal.spectrogram(x = eeg[:,0], fs=sr, **myparams)\n",
    "f_2, nseg_2, Sxx_2 = signal.spectrogram(x = eeg[:,1], fs=sr, **myparams)\n",
    "f_3, nseg_3, Sxx_3 = signal.spectrogram(x = eeg[:,2], fs=sr, **myparams)\n",
    "f_4, nseg_4, Sxx_4 = signal.spectrogram(x = eeg[:,3], fs=sr, **myparams)\n",
    "\n",
    "fig, ax = plt.subplots(2,4, figsize = (40,15), constrained_layout=True)\n",
    "fig.suptitle(title)\n",
    "ax[0,0].plot(time_s, eeg[:,0], lw = 1, color='C0')\n",
    "ax[0,1].plot(time_s, eeg[:,1], lw = 1, color='C1')\n",
    "ax[0,2].plot(time_s, eeg[:,2], lw = 1, color='C2')\n",
    "ax[0,3].plot(time_s, eeg[:,3], lw = 1, color='C3')\n",
    "ax[0,0].set_ylabel('Amplitude ($\\mu V$)')\n",
    "ax[0,1].set_ylabel('Amplitude ($\\mu V$)')\n",
    "ax[0,2].set_ylabel('Amplitude ($\\mu V$)')\n",
    "ax[0,3].set_ylabel('Amplitude ($\\mu V$)')\n",
    "ax[0,0].set_title(subTitles[0])\n",
    "ax[0,1].set_title(subTitles[1])\n",
    "ax[0,2].set_title(subTitles[2])\n",
    "ax[0,3].set_title(subTitles[3])\n",
    "ax[1,0].set(xlabel='Time (s)', ylabel='Frequency (Hz)')\n",
    "ax[1,1].set(xlabel='Time (s)', ylabel='Frequency (Hz)')\n",
    "ax[1,2].set(xlabel='Time (s)', ylabel='Frequency (Hz)')\n",
    "ax[1,3].set(xlabel='Time (s)', ylabel='Frequency (Hz)')\n",
    "X1,X2,X3,X4 = nseg_1,nseg_2,nseg_3,nseg_4\n",
    "Y1,Y2,Y3,Y4 = f_1,f_2,f_3,f_4\n",
    "Z1,Z2,Z3,Z4 = Sxx_1,Sxx_2,Sxx_3,Sxx_4\n",
    "levels = 45\n",
    "spectrum = ax[1,0].contourf(X1,Y1,Z1,levels, cmap='jet')#,'linecolor','none')\n",
    "spectrum = ax[1,1].contourf(X2,Y2,Z2,levels, cmap='jet')#,'linecolor','none')\n",
    "spectrum = ax[1,2].contourf(X3,Y3,Z3,levels, cmap='jet')#,'linecolor','none')\n",
    "spectrum = ax[1,3].contourf(X4,Y4,Z4,levels, cmap='jet')#,'linecolor','none')\n",
    "cbar = plt.colorbar(spectrum)#, boundaries=np.linspace(0,1,5))\n",
    "cbar.ax.set_ylabel('Amplitude (dB)', rotation=90)\n",
    "\n",
    "\n",
    "\n"
   ]
  },
  {
   "cell_type": "code",
   "execution_count": null,
   "metadata": {},
   "outputs": [],
   "source": [
    "eeg = noc_MT11[:,2]\n",
    "sr = cfg.fs\n",
    "WinLength = int(0.5*sr) \n",
    "step = int(0.025*sr) \n",
    "myparams = dict(nperseg = WinLength, noverlap = WinLength-step, return_onesided=True, mode='magnitude')\n",
    "f, nseg, Sxx = signal.spectrogram(x = eeg, fs=sr, **myparams)\n",
    "fig, ax = plt.subplots(2,1, figsize = (16,8), constrained_layout=True)\n",
    "\n",
    "ax[0].plot(time_s, eeg, lw = 1, color='C0')\n",
    "ax[0].set_ylabel('Amplitude ($\\mu V$)')\n",
    "ax[0].set_title('EEG signal')\n",
    "ax[1].set(xlabel='Time (s)', ylabel='Frequency (Hz)')\n",
    "nsteps = int(np.floor ((eeg.size - WinLength)/step))\n",
    "# spectrum is a ContourSet object\n",
    "dt = 120/nsteps # 120 seconds in number of steps\n",
    "X = nseg\n",
    "Y = f\n",
    "Z = Sxx\n",
    "levels = 45\n",
    "spectrum = ax[1].contourf(X,Y,Z,levels, cmap='jet')#,'linecolor','none')\n",
    "\n",
    "# get the colormap\n",
    "cbar = plt.colorbar(spectrum)#, boundaries=np.linspace(0,1,5))\n",
    "cbar.ax.set_ylabel('Amplitude (dB)', rotation=90)\n",
    "#cbar.set_ticks(np.arange(0,50,10))"
   ]
  },
  {
   "cell_type": "code",
   "execution_count": null,
   "metadata": {},
   "outputs": [],
   "source": [
    "# compute power spectrum of each window per channel\n",
    "delta_low = cfg.brainwaves['delta'][0]\n",
    "delta_high = cfg.brainwaves['delta'][1]\n",
    "theta_low = cfg.brainwaves['theta'][0]\n",
    "theta_high = cfg.brainwaves['theta'][1]\n",
    "alpha_low = cfg.brainwaves['alpha'][0]\n",
    "alpha_high = cfg.brainwaves['alpha'][1]\n",
    "beta_low = cfg.brainwaves['beta'][0]\n",
    "beta_high = cfg.brainwaves['beta'][1]\n",
    "gamma_low = cfg.brainwaves['gamma'][0]\n",
    "gamma_high = cfg.brainwaves['gamma'][1]"
   ]
  },
  {
   "cell_type": "code",
   "execution_count": null,
   "metadata": {},
   "outputs": [],
   "source": [
    "# compute average band power for timepoint 1\n",
    "\n",
    "#   delta\n",
    "delta_M11 = avgBandPower(bandpass_MT11,cfg.fs,delta_low,delta_high)\n",
    "delta_M12 = avgBandPower(bandpass_MT12,cfg.fs,delta_low,delta_high) \n",
    "\n",
    "#   theta\n",
    "theta_M11 = avgBandPower(bandpass_MT11,cfg.fs,theta_low,theta_high)\n",
    "theta_M12 = avgBandPower(bandpass_MT12,cfg.fs,theta_low,theta_high)\n",
    "\n",
    "#   alpha\n",
    "alpha_M11 = avgBandPower(bandpass_MT11,cfg.fs,alpha_low,alpha_high)\n",
    "alpha_M12 = avgBandPower(bandpass_MT12,cfg.fs,alpha_low,alpha_high)\n",
    "\n",
    "#   beta\n",
    "beta_M11 = avgBandPower(bandpass_MT11,cfg.fs,beta_low,beta_high)\n",
    "beta_M12 = avgBandPower(bandpass_MT12,cfg.fs,beta_low,beta_high)\n",
    "\n",
    "#   gamma\n",
    "gamma_M11 = avgBandPower(bandpass_MT11,cfg.fs,gamma_low,gamma_high)\n",
    "gamma_M12 = avgBandPower(bandpass_MT12,cfg.fs,gamma_low,gamma_high)"
   ]
  },
  {
   "cell_type": "code",
   "execution_count": null,
   "metadata": {},
   "outputs": [],
   "source": [
    "sw_M11 = slidingWindow(bandpass_MT11,time_s,1,1)\n",
    "tp9 = sw_M11[0,:,:]\n",
    "af7 = sw_M11[1,:,:]\n",
    "af8 = sw_M11[2,:,:]\n",
    "#tp9 = tp9.reshape(tp9.shape[1],tp9.shape[2])\n",
    "delta_tp9 = avgBandPower(tp9.T,cfg.fs,delta_low,delta_high)\n",
    "delta_tp9 = np.sum(delta_tp9)\n",
    "delta_af7 = avgBandPower(af7.T,cfg.fs,delta_low,delta_high)\n",
    "#delta_af7 = np.sum(delta_af7)\n",
    "delta_af8 = avgBandPower(af8.T,cfg.fs,delta_low,delta_high)\n",
    "delta_af8 = np.sum(delta_af8)"
   ]
  }
 ],
 "metadata": {
  "interpreter": {
   "hash": "40d3a090f54c6569ab1632332b64b2c03c39dcf918b08424e98f38b5ae0af88f"
  },
  "kernelspec": {
   "display_name": "Python 3.9.7 ('base')",
   "language": "python",
   "name": "python3"
  },
  "language_info": {
   "codemirror_mode": {
    "name": "ipython",
    "version": 3
   },
   "file_extension": ".py",
   "mimetype": "text/x-python",
   "name": "python",
   "nbconvert_exporter": "python",
   "pygments_lexer": "ipython3",
   "version": "3.9.13"
  },
  "orig_nbformat": 4
 },
 "nbformat": 4,
 "nbformat_minor": 2
}
