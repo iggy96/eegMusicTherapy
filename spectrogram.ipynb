{
 "cells": [
  {
   "cell_type": "code",
   "execution_count": 1,
   "metadata": {},
   "outputs": [],
   "source": [
    "from helper import*\n",
    "import params as cfg\n",
    "import sys\n",
    "sys.path.insert(1, '/Users/joshuaighalo/Documents/GitHub/eegDementia')"
   ]
  },
  {
   "cell_type": "code",
   "execution_count": 37,
   "metadata": {},
   "outputs": [],
   "source": [
    "\"Functions utilized in this script\"\n",
    "def multipleFilesNotch(input_3d,fs):\n",
    "    notch_out = []\n",
    "    filtering = filters()\n",
    "    for i in range(input_3d.shape[0]):\n",
    "        notch_out.append(filtering.notch(input_3d[i,:,:],fs))\n",
    "    return np.array(notch_out)\n",
    "\n",
    "def multipleFilesbutterBandpass(input_3d,lowcut,highcut,fs):\n",
    "    butter_out = []\n",
    "    filtering = filters()\n",
    "    for i in range(input_3d.shape[0]):\n",
    "        butter_out.append(filtering.butterBandPass(input_3d[i,:,:],lowcut,highcut,fs))\n",
    "    return np.array(butter_out)\n",
    "\n",
    "def multipleArtfRemoval(input_3d,threshold_value,timearray,len_window,step_size,choice_numwindows,channels,group):\n",
    "    print(group)\n",
    "    artf_out = []\n",
    "    for i in range(input_3d.shape[0]):\n",
    "        artf_out.append(ar_maximumgradient(input_3d[i,:,:],threshold_value,timearray,len_window,step_size,choice_numwindows,channels))\n",
    "    print('***************************************************************************************************************************************************************')\n",
    "    return np.array(artf_out)\n",
    "\n",
    "def multiplePSD(data_4D,fs):\n",
    "    freqs,psd = [],[]\n",
    "    for i in range(data_4D.shape[0]):\n",
    "        freqs.append(computePSD(data_4D[i],fs,data_type='3D')[0])\n",
    "        psd.append(computePSD(data_4D[i],fs,data_type='3D')[1])\n",
    "    psd = np.array(psd)\n",
    "    freqs = np.array(freqs)\n",
    "    return freqs,psd\n",
    "\n",
    "def multipleRelativeBandPower(input_3d,freq_array,low,high):\n",
    "    avg_out = []\n",
    "    for i in range(input_3d.shape[0]):\n",
    "        avg_out.append(psdRelativeBandPower(input_3d[i,:,:],freq_array,low,high))\n",
    "    return np.array(avg_out)\n",
    "\n",
    "def specgram_features(data,sfreq,NFFT,Noverlap,data_shape):\n",
    "\n",
    "    def params_1D(data_1D,fs,win_len,win_overlap): \n",
    "        s_px,s_fx,s_tx,s_imx = plt.specgram(data_1D, NFFT=win_len, Fs=fs, noverlap=win_overlap)\n",
    "        return s_px,s_fx,s_tx\n",
    "\n",
    "    def params_2D(data_2D,sfreq,nfft,noverlap):\n",
    "#        input: data must be windowed to form 2D array\n",
    "#               data_2D = (len_windows,num_windows)\n",
    "#               sfreq = sampling frequency\n",
    "#               nfft = number of points to use in the FFT\n",
    "#               noverlap = number of points to overlap\n",
    "            \n",
    "#        output: psd = (len_freqs,len_time), freqs = (len_freqs,), time = (len_time,)\n",
    "\n",
    "        psd,freqs,times = [],[],[]\n",
    "        for i in range(len(data_2D.T)):\n",
    "            s_px,s_fx,s_tx = params_1D(data_2D[:,i],sfreq,nfft,noverlap)\n",
    "            psd.append(s_px)\n",
    "            freqs.append(s_fx)\n",
    "            times.append(s_tx)\n",
    "        psd,freqs,times = np.array(psd),np.array(freqs),np.array(times)\n",
    "        psd = np.nanmean(psd,axis=0)\n",
    "        return psd,freqs,times\n",
    "\n",
    "    def params_3D(data_3D,sfreq,nfft,noverlap):\n",
    "#        input: data must be windowed to form 3D array\n",
    "#               data_3D = (num_channels,len_windows,num_windows)\n",
    "#               sfreq = sampling frequency\n",
    "#               nfft = number of points to use in the FFT\n",
    "#               noverlap = number of points to overlap\n",
    "            \n",
    "#        output: psd = (num_channels,len_freqs,len_time), freqs = (len_freqs,), time = (len_time,)\n",
    "\n",
    "        psd,freqs,times = [],[],[]\n",
    "        for i in range(data_3D.shape[0]):\n",
    "            s_px,s_fx,s_tx = params_2D(data_3D[i,:,:],sfreq,nfft,noverlap)\n",
    "            psd.append(s_px)\n",
    "            freqs.append(s_fx)\n",
    "            times.append(s_tx)\n",
    "        psd,freqs,times = np.array(psd),np.array(freqs),np.array(times)\n",
    "        return psd,freqs,times\n",
    "\n",
    "    def params_4D(data_4D,sfreq,nfft,noverlap):\n",
    "#        input: data must be windowed to form 4D array\n",
    "#               data_4D = (num_participants,num_channels,len_windows,num_windows)\n",
    "#               sfreq = sampling frequency\n",
    "#               nfft = number of points to use in the FFT\n",
    "#               noverlap = number of points to overlap\n",
    "            \n",
    "#        output: psd = (num_participants,num_channels,len_freqs,len_time), freqs = (len_freqs,), time = (len_time,)\n",
    "        psd,freqs,times = [],[],[]\n",
    "        for i in range(data_4D.shape[0]):\n",
    "            s_px,s_fx,s_tx = params_3D(data_4D[i,:,:,:],sfreq,nfft,noverlap)\n",
    "            psd.append(s_px)\n",
    "            freqs.append(s_fx)\n",
    "            times.append(s_tx)\n",
    "        psd,freqs,times = np.array(psd),np.array(freqs),np.array(times)\n",
    "        return psd,freqs,times\n",
    "    \n",
    "    if data_shape == '1D':\n",
    "        s_psd,s_freqs,s_times = params_1D(data,sfreq,NFFT,Noverlap)\n",
    "    elif data_shape == '2D':\n",
    "        s_psd,s_freqs,s_times = params_2D(data,sfreq,NFFT,Noverlap)\n",
    "    elif data_shape == '3D':\n",
    "        s_psd,s_freqs,s_times = params_3D(data,sfreq,NFFT,Noverlap)\n",
    "    elif data_shape == '4D':\n",
    "        s_psd,s_freqs,s_times = params_4D(data,sfreq,NFFT,Noverlap)\n",
    "    return s_psd,s_freqs,s_times"
   ]
  },
  {
   "cell_type": "code",
   "execution_count": 3,
   "metadata": {},
   "outputs": [
    {
     "data": {
      "text/plain": [
       "'\\n#   Group-Task-Time\\nM11 = [\\'m11_1.zip\\',\\'m11_2.zip\\',\\'m11_3.zip\\',\\'m11_4.zip\\',\\'m11_5.zip\\']\\nM21 = [\\'m21_1.zip\\',\\'m21_2.zip\\',\\'m21_3.zip\\',\\'m21_4.zip\\',\\'m21_5.zip\\']\\nM12 = [\\'m12_1.zip\\',\\'m12_2.zip\\',\\'m12_3.zip\\',\\'m12_4.zip\\',\\'m12_5.zip\\']\\nM22 = [\\'m22_1.zip\\',\\'m22_2.zip\\',\\'m22_3.zip\\',\\'m22_4.zip\\',\\'m22_5.zip\\']\\nC11 = [\\'c11_1.zip\\',\\'c11_2.zip\\',\\'c11_3.zip\\',\\'c11_4.zip\\',\\'c11_5.zip\\']\\nC21 = [\\'c21_1.zip\\',\\'c21_2.zip\\',\\'c21_3.zip\\',\\'c21_4.zip\\',\\'c21_5.zip\\']\\nC12 = [\\'c12_1.zip\\',\\'c12_2.zip\\',\\'c12_3.zip\\',\\'c12_4.zip\\',\\'c12_5.zip\\']\\nC22 = [\\'c22_1.zip\\',\\'c22_2.zip\\',\\'c22_3.zip\\',\\'c22_4.zip\\',\\'c22_5.zip\\']\\nlocalDir = \"/Users/joshuaighalo/Downloads/v2/\"\\ndestDir = \"/Users/joshuaighalo/Downloads/v2/dest/\"\\nos.system(\\'rm -rf %s/*\\' % destDir)\\nfs_setting = \\'constant\\'\\n'"
      ]
     },
     "execution_count": 3,
     "metadata": {},
     "output_type": "execute_result"
    }
   ],
   "source": [
    "\"\"\"\n",
    "#   Group-Task-Time\n",
    "M11 = ['m11_1.zip','m11_2.zip','m11_3.zip','m11_4.zip','m11_5.zip']\n",
    "M21 = ['m21_1.zip','m21_2.zip','m21_3.zip','m21_4.zip','m21_5.zip']\n",
    "M12 = ['m12_1.zip','m12_2.zip','m12_3.zip','m12_4.zip','m12_5.zip']\n",
    "M22 = ['m22_1.zip','m22_2.zip','m22_3.zip','m22_4.zip','m22_5.zip']\n",
    "C11 = ['c11_1.zip','c11_2.zip','c11_3.zip','c11_4.zip','c11_5.zip']\n",
    "C21 = ['c21_1.zip','c21_2.zip','c21_3.zip','c21_4.zip','c21_5.zip']\n",
    "C12 = ['c12_1.zip','c12_2.zip','c12_3.zip','c12_4.zip','c12_5.zip']\n",
    "C22 = ['c22_1.zip','c22_2.zip','c22_3.zip','c22_4.zip','c22_5.zip']\n",
    "localDir = \"/Users/joshuaighalo/Downloads/v2/\"\n",
    "destDir = \"/Users/joshuaighalo/Downloads/v2/dest/\"\n",
    "os.system('rm -rf %s/*' % destDir)\n",
    "fs_setting = 'constant'\n",
    "\"\"\""
   ]
  },
  {
   "cell_type": "code",
   "execution_count": 4,
   "metadata": {},
   "outputs": [],
   "source": [
    "#\"\"\"\n",
    "#   Group-Task-Time Ryan SEEN\n",
    "M11 = ['m11_1.zip','m11_2.zip','m11_3.zip','m11_4.zip','m11_5.zip']\n",
    "C21 = ['m21_1.zip','m21_2.zip','m21_3.zip','m21_4.zip','m21_5.zip']\n",
    "M12 = ['m12_1.zip','m12_2.zip','m12_3.zip','m12_4.zip','m12_5.zip']\n",
    "C22 = ['m22_1.zip','m22_2.zip','m22_3.zip','m22_4.zip','m22_5.zip']\n",
    "C11 = ['c11_1.zip','c11_2.zip','c11_3.zip','c11_4.zip','c11_5.zip']\n",
    "M21 = ['c21_1.zip','c21_2.zip','c21_3.zip','c21_4.zip','c21_5.zip']\n",
    "C12 = ['c12_1.zip','c12_2.zip','c12_3.zip','c12_4.zip','c12_5.zip']\n",
    "M22 = ['c22_1.zip','c22_2.zip','c22_3.zip','c22_4.zip','c22_5.zip']\n",
    "localDir = \"/Users/joshuaighalo/Downloads/v2/\"\n",
    "destDir = \"/Users/joshuaighalo/Downloads/v2/dest/\"\n",
    "os.system('rm -rf %s/*' % destDir)\n",
    "fs_setting = 'constant'\n",
    "#\"\"\""
   ]
  },
  {
   "cell_type": "code",
   "execution_count": 5,
   "metadata": {},
   "outputs": [],
   "source": [
    "#   Extract eeg data from participants within the groups\n",
    "M11 = zipExtract(M11,localDir,destDir,\"M11\",cfg.fs,cfg.collection_time,cfg.fs_setting)[1]\n",
    "M21 = zipExtract(M21,localDir,destDir,\"M21\",cfg.fs,cfg.collection_time,cfg.fs_setting)[1]\n",
    "M12 = zipExtract(M12,localDir,destDir,\"M12\",cfg.fs,cfg.collection_time,cfg.fs_setting)[1]\n",
    "M22 = zipExtract(M22,localDir,destDir,\"M22\",cfg.fs,cfg.collection_time,cfg.fs_setting)[1]\n",
    "C11 = zipExtract(C11,localDir,destDir,\"C11\",cfg.fs,cfg.collection_time,cfg.fs_setting)[1]\n",
    "C21 = zipExtract(C21,localDir,destDir,\"C21\",cfg.fs,cfg.collection_time,cfg.fs_setting)[1]\n",
    "C12 = zipExtract(C12,localDir,destDir,\"C12\",cfg.fs,cfg.collection_time,cfg.fs_setting)[1]\n",
    "C22 = zipExtract(C22,localDir,destDir,\"C22\",cfg.fs,cfg.collection_time,cfg.fs_setting)[1]\n",
    "time_s = np.arange(0,cfg.collection_time,1/cfg.fs)"
   ]
  },
  {
   "cell_type": "code",
   "execution_count": 6,
   "metadata": {},
   "outputs": [],
   "source": [
    "#   Notch filters data collected from participants\n",
    "noc_M11 = multipleFilesNotch(M11,cfg.fs)\n",
    "noc_M21 = multipleFilesNotch(M21,cfg.fs)\n",
    "noc_M12 = multipleFilesNotch(M12,cfg.fs)\n",
    "noc_M22 = multipleFilesNotch(M22,cfg.fs)\n",
    "noc_C11 = multipleFilesNotch(C11,cfg.fs)\n",
    "noc_C21 = multipleFilesNotch(C21,cfg.fs)\n",
    "noc_C12 = multipleFilesNotch(C12,cfg.fs)\n",
    "noc_C22 = multipleFilesNotch(C22,cfg.fs)"
   ]
  },
  {
   "cell_type": "code",
   "execution_count": 7,
   "metadata": {},
   "outputs": [],
   "source": [
    "#   Bandpass filters data collected from participants\n",
    "band_M11 = multipleFilesbutterBandpass(noc_M11,cfg.lowcut,cfg.highcut,cfg.fs)\n",
    "band_M21 = multipleFilesbutterBandpass(noc_M21,cfg.lowcut,cfg.highcut,cfg.fs)\n",
    "band_M12 = multipleFilesbutterBandpass(noc_M12,cfg.lowcut,cfg.highcut,cfg.fs)\n",
    "band_M22 = multipleFilesbutterBandpass(noc_M22,cfg.lowcut,cfg.highcut,cfg.fs)\n",
    "band_C11 = multipleFilesbutterBandpass(noc_C11,cfg.lowcut,cfg.highcut,cfg.fs)\n",
    "band_C21 = multipleFilesbutterBandpass(noc_C21,cfg.lowcut,cfg.highcut,cfg.fs)\n",
    "band_C12 = multipleFilesbutterBandpass(noc_C12,cfg.lowcut,cfg.highcut,cfg.fs)\n",
    "band_C22 = multipleFilesbutterBandpass(noc_C22,cfg.lowcut,cfg.highcut,cfg.fs)"
   ]
  },
  {
   "cell_type": "code",
   "execution_count": null,
   "metadata": {},
   "outputs": [],
   "source": [
    "threshold_value,window_size,step_size,channels,choice_numwindows = 5,0.5,0.5,['TP9','AF7','AF8','TP10'],240\n",
    "arM11 = multipleArtfRemoval(band_M11,threshold_value,time_s,window_size,step_size,choice_numwindows,channels,\"M11\")\n",
    "arM21 = multipleArtfRemoval(band_M21,threshold_value,time_s,window_size,step_size,choice_numwindows,channels,\"M21\")\n",
    "arM12 = multipleArtfRemoval(band_M12,threshold_value,time_s,window_size,step_size,choice_numwindows,channels,\"M12\")\n",
    "arM22 = multipleArtfRemoval(band_M22,threshold_value,time_s,window_size,step_size,choice_numwindows,channels,\"M22\")\n",
    "arC11 = multipleArtfRemoval(band_C11,threshold_value,time_s,window_size,step_size,choice_numwindows,channels,\"C11\")\n",
    "arC21 = multipleArtfRemoval(band_C21,threshold_value,time_s,window_size,step_size,choice_numwindows,channels,\"C21\")\n",
    "arC12 = multipleArtfRemoval(band_C12,threshold_value,time_s,window_size,step_size,choice_numwindows,channels,\"C12\")\n",
    "arC22 = multipleArtfRemoval(band_C22,threshold_value,time_s,window_size,step_size,choice_numwindows,channels,\"C22\")"
   ]
  },
  {
   "cell_type": "markdown",
   "metadata": {},
   "source": [
    "## Frequency Domain"
   ]
  },
  {
   "cell_type": "code",
   "execution_count": 9,
   "metadata": {},
   "outputs": [],
   "source": [
    "# arGroup = (participants,channels,num_windows,len_windows)\n",
    "# arrGroup = (participants,channels,len_windows,num_windows)\n",
    "arr_M11 = np.transpose(arM11,(0,1,3,2))\n",
    "arr_M21 = np.transpose(arM21,(0,1,3,2))\n",
    "arr_M12 = np.transpose(arM12,(0,1,3,2))\n",
    "arr_M22 = np.transpose(arM22,(0,1,3,2))\n",
    "arr_C11 = np.transpose(arC11,(0,1,3,2))\n",
    "arr_C21 = np.transpose(arC21,(0,1,3,2))\n",
    "arr_C12 = np.transpose(arC12,(0,1,3,2))\n",
    "arr_C22 = np.transpose(arC22,(0,1,3,2))"
   ]
  },
  {
   "cell_type": "markdown",
   "metadata": {},
   "source": [
    "<b>Extract PSD, Frequencies and Time from spectrogram"
   ]
  },
  {
   "cell_type": "code",
   "execution_count": 39,
   "metadata": {},
   "outputs": [],
   "source": [
    "fs,nfft,overlap = 256,64,63\n",
    "s_pxM11,s_fxM11,s_txM11 = specgram_features(arr_M11,fs,nfft,overlap,data_shape='4D')\n",
    "s_pxM12,s_fxM12,s_txM12 = specgram_features(arr_M12,fs,nfft,overlap,data_shape='4D')\n",
    "s_pxM21,s_fxM21,s_txM21 = specgram_features(arr_M21,fs,nfft,overlap,data_shape='4D')\n",
    "s_pxM22,s_fxM22,s_txM22 = specgram_features(arr_M22,fs,nfft,overlap,data_shape='4D')\n",
    "s_pxC11,s_fxC11,s_txC11 = specgram_features(arr_C11,fs,nfft,overlap,data_shape='4D')\n",
    "s_pxC12,s_fxC12,s_txC12 = specgram_features(arr_C12,fs,nfft,overlap,data_shape='4D')\n",
    "s_pxC21,s_fxC21,s_txC21 = specgram_features(arr_C21,fs,nfft,overlap,data_shape='4D')\n",
    "s_pxC22,s_fxC22,s_txC22 = specgram_features(arr_C22,fs,nfft,overlap,data_shape='4D')"
   ]
  },
  {
   "cell_type": "code",
   "execution_count": null,
   "metadata": {},
   "outputs": [],
   "source": [
    "#  Average power bins across participants\n",
    "meanpar_pxM11,meanpar_pxM12,meanpar_pxM21,meanpar_pxM22 = np.nanmean(s_pxM11,axis=0),np.nanmean(s_pxM12,axis=0),np.nanmean(s_pxM21,axis=0),np.nanmean(s_pxM22,axis=0)\n",
    "meanpar_pxC11,meanpar_pxC12,meanpar_pxC21,meanpar_pxC22 = np.nanmean(s_pxC11,axis=0),np.nanmean(s_pxC12,axis=0),np.nanmean(s_pxC21,axis=0),np.nanmean(s_pxC22,axis=0)"
   ]
  },
  {
   "cell_type": "code",
   "execution_count": null,
   "metadata": {},
   "outputs": [],
   "source": [
    "#  Average power bins across participants and channels\n",
    "meanparchan_pxM11,meanparchan_pxM12,meanparchan_pxM21,meanparchan_pxM22 = np.nanmean(meanpar_pxM11,axis=0),np.nanmean(meanpar_pxM12,axis=0),np.nanmean(meanpar_pxM21,axis=0),np.nanmean(meanpar_pxM22,axis=0)\n",
    " "
   ]
  }
 ],
 "metadata": {
  "kernelspec": {
   "display_name": "base",
   "language": "python",
   "name": "python3"
  },
  "language_info": {
   "codemirror_mode": {
    "name": "ipython",
    "version": 3
   },
   "file_extension": ".py",
   "mimetype": "text/x-python",
   "name": "python",
   "nbconvert_exporter": "python",
   "pygments_lexer": "ipython3",
   "version": "3.9.7"
  },
  "orig_nbformat": 4,
  "vscode": {
   "interpreter": {
    "hash": "40d3a090f54c6569ab1632332b64b2c03c39dcf918b08424e98f38b5ae0af88f"
   }
  }
 },
 "nbformat": 4,
 "nbformat_minor": 2
}
