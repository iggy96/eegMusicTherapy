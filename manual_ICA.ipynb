{
 "cells": [
  {
   "cell_type": "code",
   "execution_count": 1,
   "metadata": {},
   "outputs": [],
   "source": [
    "from helper import*\n",
    "import params as cfg"
   ]
  },
  {
   "cell_type": "code",
   "execution_count": 2,
   "metadata": {},
   "outputs": [],
   "source": [
    "#   Group-Task-Time\n",
    "M11 = ['m11_1.zip','m11_2.zip','m11_3.zip','m11_4.zip','m11_5.zip']\n",
    "M21 = ['m21_1.zip','m21_2.zip','m21_3.zip','m21_4.zip','m21_5.zip']\n",
    "M12 = ['m12_1.zip','m12_2.zip','m12_3.zip','m12_4.zip','m12_5.zip']\n",
    "M22 = ['m22_1.zip','m22_2.zip','m22_3.zip','m22_4.zip','m22_5.zip']\n",
    "C11 = ['c11_1.zip','c11_2.zip','c11_3.zip','c11_4.zip','c11_5.zip']\n",
    "C21 = ['c21_1.zip','c21_2.zip','c21_3.zip','c21_4.zip','c21_5.zip']\n",
    "C12 = ['c12_1.zip','c12_2.zip','c12_3.zip','c12_4.zip','c12_5.zip']\n",
    "C22 = ['c22_1.zip','c22_2.zip','c22_3.zip','c22_4.zip','c22_5.zip']\n",
    "localDir = \"/Users/joshuaighalo/Downloads/Mind_Monitor/\"\n",
    "destDir = \"/Users/joshuaighalo/Downloads/Mind_Monitor/dest/\"\n",
    "os.system('rm -rf %s/*' % destDir)\n",
    "fs_setting = 'constant'"
   ]
  },
  {
   "cell_type": "code",
   "execution_count": 3,
   "metadata": {},
   "outputs": [],
   "source": [
    "\"Functions utilized in this script\"\n",
    "def multipleFilesICA(input_3d,fs):\n",
    "    ica_out = []\n",
    "    for i in range(input_3d.shape[0]):\n",
    "        ica_out.append(ica(input_3d[i,:,:],fs))\n",
    "    return np.array(ica_out)\n",
    "def multipleFilesNotch(input_3d,fs):\n",
    "    notch_out = []\n",
    "    filtering = filters()\n",
    "    for i in range(input_3d.shape[0]):\n",
    "        notch_out.append(filtering.notch(input_3d[i,:,:],fs))\n",
    "    return np.array(notch_out)\n",
    "def pk2pk(input,threshold):\n",
    "    def fnc(data,threshold_):\n",
    "        data[np.where(abs(data) > threshold_)] = 0\n",
    "        return data\n",
    "    p1 = fnc(input[:,0],threshold[0])\n",
    "    p2 = fnc(input[:,1],threshold[1])\n",
    "    p3 = fnc(input[:,2],threshold[2])\n",
    "    p4 = fnc(input[:,3],threshold[3])\n",
    "    return np.array([p1,p2,p3,p4]).T\n",
    "def multipleFilesbutterBandpass(input_3d,lowcut,highcut,fs):\n",
    "    butter_out = []\n",
    "    filtering = filters()\n",
    "    for i in range(input_3d.shape[0]):\n",
    "        butter_out.append(filtering.butterBandPass(input_3d[i,:,:],lowcut,highcut,fs))\n",
    "    return np.array(butter_out)"
   ]
  },
  {
   "cell_type": "code",
   "execution_count": 4,
   "metadata": {},
   "outputs": [],
   "source": [
    "#   Extract eeg data fro participants within the groups\n",
    "M11 = zipExtract(M11,localDir,destDir,\"M11\",cfg.fs,cfg.collection_time,cfg.fs_setting)[1]\n",
    "M21 = zipExtract(M21,localDir,destDir,\"M21\",cfg.fs,cfg.collection_time,cfg.fs_setting)[1]\n",
    "M12 = zipExtract(M12,localDir,destDir,\"M12\",cfg.fs,cfg.collection_time,cfg.fs_setting)[1]\n",
    "M22 = zipExtract(M22,localDir,destDir,\"M22\",cfg.fs,cfg.collection_time,cfg.fs_setting)[1]\n",
    "C11 = zipExtract(C11,localDir,destDir,\"C11\",cfg.fs,cfg.collection_time,cfg.fs_setting)[1]\n",
    "C21 = zipExtract(C21,localDir,destDir,\"C21\",cfg.fs,cfg.collection_time,cfg.fs_setting)[1]\n",
    "C12 = zipExtract(C12,localDir,destDir,\"C12\",cfg.fs,cfg.collection_time,cfg.fs_setting)[1]\n",
    "C22 = zipExtract(C22,localDir,destDir,\"C22\",cfg.fs,cfg.collection_time,cfg.fs_setting)[1]\n",
    "time_s = np.arange(0,cfg.collection_time,1/cfg.fs)"
   ]
  },
  {
   "cell_type": "code",
   "execution_count": 5,
   "metadata": {},
   "outputs": [],
   "source": [
    "#   Notch filters data collected from participants\n",
    "noc_M11 = multipleFilesNotch(M11,cfg.fs)\n",
    "noc_M21 = multipleFilesNotch(M21,cfg.fs)\n",
    "noc_M12 = multipleFilesNotch(M12,cfg.fs)\n",
    "noc_M22 = multipleFilesNotch(M22,cfg.fs)\n",
    "noc_C11 = multipleFilesNotch(C11,cfg.fs)\n",
    "noc_C21 = multipleFilesNotch(C21,cfg.fs)\n",
    "noc_C12 = multipleFilesNotch(C12,cfg.fs)\n",
    "noc_C22 = multipleFilesNotch(C22,cfg.fs)"
   ]
  },
  {
   "cell_type": "code",
   "execution_count": 6,
   "metadata": {},
   "outputs": [],
   "source": [
    "#   Bandpass filters data collected from participants\n",
    "band_M11 = multipleFilesbutterBandpass(noc_M11,cfg.lowcut,cfg.highcut,cfg.fs)\n",
    "band_M21 = multipleFilesbutterBandpass(noc_M21,cfg.lowcut,cfg.highcut,cfg.fs)\n",
    "band_M12 = multipleFilesbutterBandpass(noc_M12,cfg.lowcut,cfg.highcut,cfg.fs)\n",
    "band_M22 = multipleFilesbutterBandpass(noc_M22,cfg.lowcut,cfg.highcut,cfg.fs)\n",
    "band_C11 = multipleFilesbutterBandpass(noc_C11,cfg.lowcut,cfg.highcut,cfg.fs)\n",
    "band_C21 = multipleFilesbutterBandpass(noc_C21,cfg.lowcut,cfg.highcut,cfg.fs)\n",
    "band_C12 = multipleFilesbutterBandpass(noc_C12,cfg.lowcut,cfg.highcut,cfg.fs)\n",
    "band_C22 = multipleFilesbutterBandpass(noc_C22,cfg.lowcut,cfg.highcut,cfg.fs)"
   ]
  },
  {
   "cell_type": "code",
   "execution_count": 7,
   "metadata": {},
   "outputs": [],
   "source": [
    "#   ICA filters data collected from participants\n",
    "ica_M11 = multipleFilesICA(band_M11,cfg.fs)\n",
    "ica_M11_1,ica_M11_2,ica_M11_3,ica_M11_4,ica_M11_5 = ica_M11[0],ica_M11[1],ica_M11[2],ica_M11[3],ica_M11[4]\n",
    "ica_M21 = multipleFilesICA(band_M21,cfg.fs)\n",
    "ica_M21_1,ica_M21_2,ica_M21_3,ica_M21_4,ica_M21_5 = ica_M21[0],ica_M21[1],ica_M21[2],ica_M21[3],ica_M21[4]\n",
    "ica_M12 = multipleFilesICA(band_M12,cfg.fs)\n",
    "ica_M12_1,ica_M12_2,ica_M12_3,ica_M12_4,ica_M12_5 = ica_M12[0],ica_M12[1],ica_M12[2],ica_M12[3],ica_M12[4]\n",
    "ica_M22 = multipleFilesICA(band_M22,cfg.fs)\n",
    "ica_M22_1,ica_M22_2,ica_M22_3,ica_M22_4,ica_M22_5 = ica_M22[0],ica_M22[1],ica_M22[2],ica_M22[3],ica_M22[4]\n",
    "ica_C11 = multipleFilesICA(band_C11,cfg.fs)\n",
    "ica_C11_1,ica_C11_2,ica_C11_3,ica_C11_4,ica_C11_5 = ica_C11[0],ica_C11[1],ica_C11[2],ica_C11[3],ica_C11[4]\n",
    "ica_C21 = multipleFilesICA(band_C21,cfg.fs)\n",
    "ica_C21_1,ica_C21_2,ica_C21_3,ica_C21_4,ica_C21_5 = ica_C21[0],ica_C21[1],ica_C21[2],ica_C21[3],ica_C21[4]\n",
    "ica_C12 = multipleFilesICA(band_C12,cfg.fs)\n",
    "ica_C12_1,ica_C12_2,ica_C12_3,ica_C12_4,ica_C12_5 = ica_C12[0],ica_C12[1],ica_C12[2],ica_C12[3],ica_C12[4]\n",
    "ica_C22 = multipleFilesICA(band_C22,cfg.fs)\n",
    "ica_C22_1,ica_C22_2,ica_C22_3,ica_C22_4,ica_C22_5 = ica_C22[0],ica_C22[1],ica_C22[2],ica_C22[3],ica_C22[4]"
   ]
  },
  {
   "cell_type": "markdown",
   "metadata": {},
   "source": [
    "M11_1"
   ]
  },
  {
   "cell_type": "code",
   "execution_count": null,
   "metadata": {},
   "outputs": [],
   "source": [
    "args = {'fs':cfg.fs,'figsize':(20,8),'subTitles':['TP9','AF7','AF8','TP10'],'title':'M11_1','timeFrequencyDomainPlots':True}\n",
    "plots(ica_M11_1,time_s,**args)"
   ]
  },
  {
   "cell_type": "code",
   "execution_count": null,
   "metadata": {},
   "outputs": [],
   "source": [
    "pk_M11_1 = pk2pk(ica_M11_1,[25,12,5,25])\n",
    "args = {'fs':cfg.fs,'figsize':(20,8),'subTitles':['TP9','AF7','AF8','TP10'],'title':'M11_1','timeFrequencyDomainPlots':True}\n",
    "plots(pk_M11_1,time_s,**args)"
   ]
  },
  {
   "cell_type": "markdown",
   "metadata": {},
   "source": [
    "M11_2"
   ]
  },
  {
   "cell_type": "code",
   "execution_count": null,
   "metadata": {},
   "outputs": [],
   "source": [
    "args = {'fs':cfg.fs,'figsize':(20,8),'subTitles':['TP9','AF7','AF8','TP10'],'title':'M11_1','timeFrequencyDomainPlots':True}\n",
    "plots(ica_M11_2,time_s,**args)"
   ]
  },
  {
   "cell_type": "code",
   "execution_count": null,
   "metadata": {},
   "outputs": [],
   "source": [
    "pk_M11_2 = pk2pk(ica_M11_2,[20,16,16,4])\n",
    "args = {'fs':cfg.fs,'figsize':(20,8),'subTitles':['TP9','AF7','AF8','TP10'],'title':'M11_1','timeFrequencyDomainPlots':True}\n",
    "plots(pk_M11_2,time_s,**args)"
   ]
  },
  {
   "cell_type": "markdown",
   "metadata": {},
   "source": [
    "M11_3"
   ]
  },
  {
   "cell_type": "code",
   "execution_count": null,
   "metadata": {},
   "outputs": [],
   "source": [
    "args = {'fs':cfg.fs,'figsize':(20,8),'subTitles':['TP9','AF7','AF8','TP10'],'title':'M11_1','timeFrequencyDomainPlots':True}\n",
    "plots(ica_M11_3,time_s,**args)"
   ]
  },
  {
   "cell_type": "code",
   "execution_count": null,
   "metadata": {},
   "outputs": [],
   "source": [
    "pk_M11_3 = pk2pk(ica_M11_3,[30,22,5,30])\n",
    "args = {'fs':cfg.fs,'figsize':(20,8),'subTitles':['TP9','AF7','AF8','TP10'],'title':'M11_1','timeFrequencyDomainPlots':True}\n",
    "plots(pk_M11_3,time_s,**args)"
   ]
  },
  {
   "cell_type": "markdown",
   "metadata": {},
   "source": [
    "M11_4"
   ]
  },
  {
   "cell_type": "code",
   "execution_count": null,
   "metadata": {},
   "outputs": [],
   "source": [
    "args = {'fs':cfg.fs,'figsize':(20,8),'subTitles':['TP9','AF7','AF8','TP10'],'title':'M11_1','timeFrequencyDomainPlots':True}\n",
    "plots(ica_M11_4,time_s,**args)"
   ]
  },
  {
   "cell_type": "code",
   "execution_count": null,
   "metadata": {},
   "outputs": [],
   "source": [
    "pk_M11_4 = pk2pk(ica_M11_4,[6,20,6,50])\n",
    "args = {'fs':cfg.fs,'figsize':(20,8),'subTitles':['TP9','AF7','AF8','TP10'],'title':'M11_1','timeFrequencyDomainPlots':True}\n",
    "plots(pk_M11_4,time_s,**args)"
   ]
  },
  {
   "cell_type": "markdown",
   "metadata": {},
   "source": [
    "M11_5"
   ]
  },
  {
   "cell_type": "code",
   "execution_count": null,
   "metadata": {},
   "outputs": [],
   "source": [
    "args = {'fs':cfg.fs,'figsize':(20,8),'subTitles':['TP9','AF7','AF8','TP10'],'title':'M11_1','timeFrequencyDomainPlots':True}\n",
    "plots(ica_M11_5,time_s,**args)"
   ]
  },
  {
   "cell_type": "code",
   "execution_count": null,
   "metadata": {},
   "outputs": [],
   "source": [
    "pk_M11_5 = pk2pk(ica_M11_5,[30,3,20,30])\n",
    "args = {'fs':cfg.fs,'figsize':(20,8),'subTitles':['TP9','AF7','AF8','TP10'],'title':'M11_1','timeFrequencyDomainPlots':True}\n",
    "plots(pk_M11_5,time_s,**args)"
   ]
  },
  {
   "cell_type": "markdown",
   "metadata": {},
   "source": [
    "M11_AVERAGE"
   ]
  },
  {
   "cell_type": "code",
   "execution_count": null,
   "metadata": {},
   "outputs": [],
   "source": [
    "pk_M11 = np.stack((pk_M11_1,pk_M11_2,pk_M11_3,pk_M11_4,pk_M11_5),axis=0)\n",
    "pk_M11_Avg = np.mean(pk_M11,axis=0)\n",
    "args = {'fs':cfg.fs,'figsize':(20,8),'subTitles':['TP9','AF7','AF8','TP10'],'title':'M11 Average','timeFrequencyDomainPlots':True}\n",
    "plots(pk_M11_Avg,time_s,**args)"
   ]
  },
  {
   "cell_type": "markdown",
   "metadata": {},
   "source": [
    "M12_1"
   ]
  },
  {
   "cell_type": "code",
   "execution_count": null,
   "metadata": {},
   "outputs": [],
   "source": [
    "args = {'fs':cfg.fs,'figsize':(20,8),'subTitles':['TP9','AF7','AF8','TP10'],'title':'M21_1','timeFrequencyDomainPlots':True}\n",
    "plots(ica_M21_1,time_s,**args)"
   ]
  },
  {
   "cell_type": "code",
   "execution_count": null,
   "metadata": {},
   "outputs": [],
   "source": [
    "pk_M21_1 = pk2pk(ica_M21_1,[50,2.5,3,35])\n",
    "args = {'fs':cfg.fs,'figsize':(20,8),'subTitles':['TP9','AF7','AF8','TP10'],'title':'M21_1','timeFrequencyDomainPlots':True}\n",
    "plots(pk_M21_1,time_s,**args)"
   ]
  }
 ],
 "metadata": {
  "kernelspec": {
   "display_name": "Python 3.9.13",
   "language": "python",
   "name": "python3"
  },
  "language_info": {
   "codemirror_mode": {
    "name": "ipython",
    "version": 3
   },
   "file_extension": ".py",
   "mimetype": "text/x-python",
   "name": "python",
   "nbconvert_exporter": "python",
   "pygments_lexer": "ipython3",
   "version": "3.9.13"
  },
  "orig_nbformat": 4,
  "vscode": {
   "interpreter": {
    "hash": "40d3a090f54c6569ab1632332b64b2c03c39dcf918b08424e98f38b5ae0af88f"
   }
  }
 },
 "nbformat": 4,
 "nbformat_minor": 2
}
